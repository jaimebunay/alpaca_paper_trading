{
 "cells": [
  {
   "cell_type": "markdown",
   "id": "d640a979-82d4-404f-abcb-535577ef1d54",
   "metadata": {},
   "source": [
    "# Alpaca Paper Trading \n",
    "In this notebook we will use raw requests to test the `alpca api endpoints`\n",
    "\n",
    "\n",
    "\n",
    "Refer to the [documentation](https://alpaca.markets/docs/api-documentation/api-v2/account/)"
   ]
  },
  {
   "cell_type": "code",
   "execution_count": 1,
   "id": "0e6acdd5-c69d-46ab-9d1a-131de360e780",
   "metadata": {},
   "outputs": [
    {
     "data": {
      "text/plain": [
       "True"
      ]
     },
     "execution_count": 1,
     "metadata": {},
     "output_type": "execute_result"
    }
   ],
   "source": [
    "# Initial Imports\n",
    "import requests \n",
    "import os\n",
    "import pandas as pd\n",
    "# Library to import Alpaca Api keys\n",
    "from dotenv import load_dotenv\n",
    "load_dotenv()  "
   ]
  },
  {
   "cell_type": "code",
   "execution_count": 2,
   "id": "ab7850b7-bebe-4779-b1d1-5f2b1aa98f15",
   "metadata": {},
   "outputs": [],
   "source": [
    "# base url opied from Alpaca Dashboard \n",
    "base_url= \"https://paper-api.alpaca.markets\"\n",
    "\n",
    "# Load api keys\n",
    "headers = {\n",
    "  'APCA-API-KEY-ID': f'{os.getenv(\"ALPACA_API_KEY\")}',\n",
    "  'APCA-API-SECRET-KEY': f'{os.getenv(\"ALPACA_SECRET_KEY\")}'\n",
    "}\n"
   ]
  },
  {
   "cell_type": "code",
   "execution_count": 3,
   "id": "6eb8f176-2378-46c0-84bc-f44e6de3c8c4",
   "metadata": {},
   "outputs": [],
   "source": [
    "# create function to retrieve account information \n",
    "def get_account_info():\n",
    "    # Use the Account endpoint\n",
    "    account_endpoint = '/v2/account'\n",
    "    url = base_url + account_endpoint\n",
    "\n",
    "    # create a response object\n",
    "    response = requests.request(\"GET\",url, headers=headers)\n",
    "    \n",
    "    # return objects contents as json\n",
    "    return response.json()"
   ]
  },
  {
   "cell_type": "code",
   "execution_count": 4,
   "id": "7e95995d-2fd7-41ea-af35-7f1d9e550669",
   "metadata": {},
   "outputs": [],
   "source": [
    "def create_order(symbol, qty, side, type_, time_in_force):\n",
    "    # use the orders endpoint\n",
    "    orders_endpoint = '/v2/orders'\n",
    "    url = base_url + orders_endpoint\n",
    "    \n",
    "    # create json to hold order data\n",
    "    data = {\n",
    "        'symbol': symbol,\n",
    "        'qty': qty,\n",
    "        'side': side, \n",
    "        'type': type_,\n",
    "        'time_in_force': time_in_force\n",
    "    }\n",
    "    \n",
    "    # create a response object\n",
    "    response = requests.request(\"POST\",url, json = data, headers = headers)   \n",
    "    \n",
    "    return response.json()  "
   ]
  },
  {
   "cell_type": "code",
   "execution_count": 5,
   "id": "ec4dedb4-ee09-4c15-8fbe-55ff8aa87f8a",
   "metadata": {},
   "outputs": [],
   "source": [
    "def get_order_status(order_id):\n",
    "    # use the orders endpoint\n",
    "    orders_endpoint = '/v2/orders'\n",
    "    url = base_url + orders_endpoint\n",
    "    \n",
    "    # create json to hold order data\n",
    "    data = {\n",
    "        'order_id': order_id\n",
    "    }\n",
    "    \n",
    "    # create a response object\n",
    "    response = requests.request(\"GET\",url, json = data, headers = headers)   \n",
    "    \n",
    "    return response.json() "
   ]
  },
  {
   "cell_type": "code",
   "execution_count": 6,
   "id": "df5ba483-15ef-4e14-879f-3cc362b74e12",
   "metadata": {},
   "outputs": [],
   "source": [
    "def cancel_order(order_id = False): \n",
    "    # if order_id is passed, cancel only this order\n",
    "    if order_id:\n",
    "        # use the orders endpoint\n",
    "        orders_endpoint = '/v2/orders'\n",
    "        url = base_url + orders_endpoint\n",
    "        \n",
    "        # create json to hold order data\n",
    "        data = {\n",
    "            'order_id': order_id\n",
    "        }\n",
    "    \n",
    "        # create a response object\n",
    "        response = requests.request(\"DELETE\",url, json = data, headers = headers)   \n",
    "        \n",
    "    # else cancel all orders\n",
    "    else: \n",
    "        orders_endpoint = '/v2/orders'\n",
    "        url = base_url + orders_endpoint\n",
    "        \n",
    "        response = requests.request(\"DELETE\",url, headers = headers)  \n",
    "\n",
    "    return response.json() \n"
   ]
  },
  {
   "cell_type": "markdown",
   "id": "9d0a7581-8f23-49e7-a9cf-323be94f329c",
   "metadata": {},
   "source": [
    "#### Retrieve Account Information"
   ]
  },
  {
   "cell_type": "code",
   "execution_count": 7,
   "id": "4fe4c4e6-9ba0-4c10-89d1-fdc59f78e51b",
   "metadata": {},
   "outputs": [
    {
     "data": {
      "text/plain": [
       "{'id': '36f252e9-578d-4b5b-88b4-e7a00990cb93',\n",
       " 'account_number': 'PA3Y65VJBES2',\n",
       " 'status': 'ACTIVE',\n",
       " 'currency': 'USD',\n",
       " 'buying_power': '400000',\n",
       " 'regt_buying_power': '200000',\n",
       " 'daytrading_buying_power': '400000',\n",
       " 'cash': '100000',\n",
       " 'portfolio_value': '100000',\n",
       " 'pattern_day_trader': False,\n",
       " 'trading_blocked': False,\n",
       " 'transfers_blocked': False,\n",
       " 'account_blocked': False,\n",
       " 'created_at': '2021-06-11T05:35:57.872717Z',\n",
       " 'trade_suspended_by_user': False,\n",
       " 'multiplier': '4',\n",
       " 'shorting_enabled': True,\n",
       " 'equity': '100000',\n",
       " 'last_equity': '100000',\n",
       " 'long_market_value': '0',\n",
       " 'short_market_value': '0',\n",
       " 'initial_margin': '0',\n",
       " 'maintenance_margin': '0',\n",
       " 'last_maintenance_margin': '0',\n",
       " 'sma': '0',\n",
       " 'daytrade_count': 0}"
      ]
     },
     "execution_count": 7,
     "metadata": {},
     "output_type": "execute_result"
    }
   ],
   "source": [
    "# Retrieve account information\n",
    "acc_info = get_account_info()\n",
    "acc_info\n"
   ]
  },
  {
   "cell_type": "code",
   "execution_count": 8,
   "id": "d63f0a94-076d-4606-8a80-fa44468aaaf3",
   "metadata": {},
   "outputs": [
    {
     "name": "stdout",
     "output_type": "stream",
     "text": [
      "Alpaca Account Buying Power Is: 400000\n"
     ]
    }
   ],
   "source": [
    "# show account buying power\n",
    "print(f\"Alpaca Account Buying Power Is: {acc_info['buying_power']}\")\n"
   ]
  },
  {
   "cell_type": "code",
   "execution_count": 9,
   "id": "dba7ab32-9a0c-4a42-ab21-6eea83c8d09c",
   "metadata": {},
   "outputs": [
    {
     "name": "stdout",
     "output_type": "stream",
     "text": [
      "Alpaca Account Portfolio Value Is: 100000\n"
     ]
    }
   ],
   "source": [
    "# get portfolio equity\n",
    "print(f\"Alpaca Account Portfolio Value Is: {acc_info['equity']}\")"
   ]
  },
  {
   "cell_type": "markdown",
   "id": "b9d44d22-38db-45c0-a09d-f65e96b356df",
   "metadata": {},
   "source": [
    "### Place Some Orders\n",
    "\n",
    "`AAPL, NFLX, FB`\n"
   ]
  },
  {
   "cell_type": "code",
   "execution_count": 10,
   "id": "4cf3e354-bd6d-452e-8a3e-d1b6e2751009",
   "metadata": {},
   "outputs": [
    {
     "data": {
      "text/plain": [
       "{'id': '3252fd04-26ee-4142-be57-dad617e64086',\n",
       " 'client_order_id': 'b0bedef9-f2c0-4a8c-8250-c9cc4830f43d',\n",
       " 'created_at': '2021-06-16T04:31:16.768589Z',\n",
       " 'updated_at': '2021-06-16T04:31:16.768589Z',\n",
       " 'submitted_at': '2021-06-16T04:31:16.761917Z',\n",
       " 'filled_at': None,\n",
       " 'expired_at': None,\n",
       " 'canceled_at': None,\n",
       " 'failed_at': None,\n",
       " 'replaced_at': None,\n",
       " 'replaced_by': None,\n",
       " 'replaces': None,\n",
       " 'asset_id': 'fc6a5dcd-4a70-4b8d-b64f-d83a6dae9ba4',\n",
       " 'symbol': 'FB',\n",
       " 'asset_class': 'us_equity',\n",
       " 'notional': None,\n",
       " 'qty': '25',\n",
       " 'filled_qty': '0',\n",
       " 'filled_avg_price': None,\n",
       " 'order_class': '',\n",
       " 'order_type': 'market',\n",
       " 'type': 'market',\n",
       " 'side': 'buy',\n",
       " 'time_in_force': 'gtc',\n",
       " 'limit_price': None,\n",
       " 'stop_price': None,\n",
       " 'status': 'accepted',\n",
       " 'extended_hours': False,\n",
       " 'legs': None,\n",
       " 'trail_percent': None,\n",
       " 'trail_price': None,\n",
       " 'hwm': None}"
      ]
     },
     "execution_count": 10,
     "metadata": {},
     "output_type": "execute_result"
    }
   ],
   "source": [
    "# create list \n",
    "symbols = ['AAPL', 'NFLX', 'FB']\n",
    "# loop through list to place orders\n",
    "for i in symbols:\n",
    "    # call create order function\n",
    "    response = create_order(i, 25, 'buy', 'market', 'gtc')\n",
    "response"
   ]
  },
  {
   "cell_type": "markdown",
   "id": "2a471271-6124-474c-8402-9912b73b78d5",
   "metadata": {},
   "source": [
    "### Retrieve Account Information After Placing Order to Buy"
   ]
  },
  {
   "cell_type": "code",
   "execution_count": 11,
   "id": "e412b2ae-3c4f-4c08-8849-039fc086350c",
   "metadata": {},
   "outputs": [
    {
     "data": {
      "text/plain": [
       "{'id': '36f252e9-578d-4b5b-88b4-e7a00990cb93',\n",
       " 'account_number': 'PA3Y65VJBES2',\n",
       " 'status': 'ACTIVE',\n",
       " 'currency': 'USD',\n",
       " 'buying_power': '376038.75',\n",
       " 'regt_buying_power': '176038.75',\n",
       " 'daytrading_buying_power': '376038.75',\n",
       " 'cash': '100000',\n",
       " 'portfolio_value': '100000',\n",
       " 'pattern_day_trader': False,\n",
       " 'trading_blocked': False,\n",
       " 'transfers_blocked': False,\n",
       " 'account_blocked': False,\n",
       " 'created_at': '2021-06-11T05:35:57.872717Z',\n",
       " 'trade_suspended_by_user': False,\n",
       " 'multiplier': '4',\n",
       " 'shorting_enabled': True,\n",
       " 'equity': '100000',\n",
       " 'last_equity': '100000',\n",
       " 'long_market_value': '0',\n",
       " 'short_market_value': '0',\n",
       " 'initial_margin': '11980.625',\n",
       " 'maintenance_margin': '0',\n",
       " 'last_maintenance_margin': '0',\n",
       " 'sma': '0',\n",
       " 'daytrade_count': 0}"
      ]
     },
     "execution_count": 11,
     "metadata": {},
     "output_type": "execute_result"
    }
   ],
   "source": [
    "acc_info = get_account_info()\n",
    "acc_info"
   ]
  },
  {
   "cell_type": "code",
   "execution_count": 12,
   "id": "e01d6682-d371-4b8f-9651-3919c2e06bae",
   "metadata": {},
   "outputs": [
    {
     "name": "stdout",
     "output_type": "stream",
     "text": [
      "Alpaca Account Buying Power After Placing Order to Buy: 376038.75\n"
     ]
    }
   ],
   "source": [
    "# show account buying power\n",
    "print(f\"Alpaca Account Buying Power After Placing Order to Buy: {acc_info['buying_power']}\")"
   ]
  },
  {
   "cell_type": "code",
   "execution_count": 13,
   "id": "76fae963-98e6-4f4e-9006-53c7cda6ee59",
   "metadata": {},
   "outputs": [
    {
     "name": "stdout",
     "output_type": "stream",
     "text": [
      "Alpaca Account Equity After Placing Order to Buy: 100000\n"
     ]
    }
   ],
   "source": [
    "# get portfolio equity\n",
    "print(f\"Alpaca Account Equity After Placing Order to Buy: {acc_info['equity']}\")"
   ]
  },
  {
   "cell_type": "markdown",
   "id": "6ce53cb6-1c86-4228-98f8-e43c06490b3e",
   "metadata": {},
   "source": [
    "### Get Order Status"
   ]
  },
  {
   "cell_type": "code",
   "execution_count": 14,
   "id": "e6c4e6f2-c4d5-47de-aa80-155da1c418e7",
   "metadata": {},
   "outputs": [
    {
     "data": {
      "text/plain": [
       "'3252fd04-26ee-4142-be57-dad617e64086'"
      ]
     },
     "execution_count": 14,
     "metadata": {},
     "output_type": "execute_result"
    }
   ],
   "source": [
    "# retrieve order id of most recent order\n",
    "recent_order_id = response['id']\n",
    "recent_order_id"
   ]
  },
  {
   "cell_type": "code",
   "execution_count": 15,
   "id": "4d6cce77-fec6-4ef2-a9b7-e25fcf042b28",
   "metadata": {},
   "outputs": [
    {
     "data": {
      "text/plain": [
       "[{'id': '3252fd04-26ee-4142-be57-dad617e64086',\n",
       "  'client_order_id': 'b0bedef9-f2c0-4a8c-8250-c9cc4830f43d',\n",
       "  'created_at': '2021-06-16T04:31:16.768589Z',\n",
       "  'updated_at': '2021-06-16T04:31:16.768589Z',\n",
       "  'submitted_at': '2021-06-16T04:31:16.761917Z',\n",
       "  'filled_at': None,\n",
       "  'expired_at': None,\n",
       "  'canceled_at': None,\n",
       "  'failed_at': None,\n",
       "  'replaced_at': None,\n",
       "  'replaced_by': None,\n",
       "  'replaces': None,\n",
       "  'asset_id': 'fc6a5dcd-4a70-4b8d-b64f-d83a6dae9ba4',\n",
       "  'symbol': 'FB',\n",
       "  'asset_class': 'us_equity',\n",
       "  'notional': None,\n",
       "  'qty': '25',\n",
       "  'filled_qty': '0',\n",
       "  'filled_avg_price': None,\n",
       "  'order_class': '',\n",
       "  'order_type': 'market',\n",
       "  'type': 'market',\n",
       "  'side': 'buy',\n",
       "  'time_in_force': 'gtc',\n",
       "  'limit_price': None,\n",
       "  'stop_price': None,\n",
       "  'status': 'accepted',\n",
       "  'extended_hours': False,\n",
       "  'legs': None,\n",
       "  'trail_percent': None,\n",
       "  'trail_price': None,\n",
       "  'hwm': None},\n",
       " {'id': '17072e87-024a-453b-8a6f-d741f4fe1f3e',\n",
       "  'client_order_id': '4125a1fa-2c86-4c9a-8519-4d1f326faf40',\n",
       "  'created_at': '2021-06-16T04:31:16.551927Z',\n",
       "  'updated_at': '2021-06-16T04:31:16.551927Z',\n",
       "  'submitted_at': '2021-06-16T04:31:16.545352Z',\n",
       "  'filled_at': None,\n",
       "  'expired_at': None,\n",
       "  'canceled_at': None,\n",
       "  'failed_at': None,\n",
       "  'replaced_at': None,\n",
       "  'replaced_by': None,\n",
       "  'replaces': None,\n",
       "  'asset_id': 'bb2a26c0-4c77-4801-8afc-82e8142ac7b8',\n",
       "  'symbol': 'NFLX',\n",
       "  'asset_class': 'us_equity',\n",
       "  'notional': None,\n",
       "  'qty': '25',\n",
       "  'filled_qty': '0',\n",
       "  'filled_avg_price': None,\n",
       "  'order_class': '',\n",
       "  'order_type': 'market',\n",
       "  'type': 'market',\n",
       "  'side': 'buy',\n",
       "  'time_in_force': 'gtc',\n",
       "  'limit_price': None,\n",
       "  'stop_price': None,\n",
       "  'status': 'accepted',\n",
       "  'extended_hours': False,\n",
       "  'legs': None,\n",
       "  'trail_percent': None,\n",
       "  'trail_price': None,\n",
       "  'hwm': None},\n",
       " {'id': 'cf043d9f-747c-48dc-ac14-c55811c944f4',\n",
       "  'client_order_id': '5f1def7e-8963-4bde-9f45-a9a8818deed8',\n",
       "  'created_at': '2021-06-16T04:31:16.239764Z',\n",
       "  'updated_at': '2021-06-16T04:31:16.239764Z',\n",
       "  'submitted_at': '2021-06-16T04:31:16.234497Z',\n",
       "  'filled_at': None,\n",
       "  'expired_at': None,\n",
       "  'canceled_at': None,\n",
       "  'failed_at': None,\n",
       "  'replaced_at': None,\n",
       "  'replaced_by': None,\n",
       "  'replaces': None,\n",
       "  'asset_id': 'b0b6dd9d-8b9b-48a9-ba46-b9d54906e415',\n",
       "  'symbol': 'AAPL',\n",
       "  'asset_class': 'us_equity',\n",
       "  'notional': None,\n",
       "  'qty': '25',\n",
       "  'filled_qty': '0',\n",
       "  'filled_avg_price': None,\n",
       "  'order_class': '',\n",
       "  'order_type': 'market',\n",
       "  'type': 'market',\n",
       "  'side': 'buy',\n",
       "  'time_in_force': 'gtc',\n",
       "  'limit_price': None,\n",
       "  'stop_price': None,\n",
       "  'status': 'accepted',\n",
       "  'extended_hours': False,\n",
       "  'legs': None,\n",
       "  'trail_percent': None,\n",
       "  'trail_price': None,\n",
       "  'hwm': None}]"
      ]
     },
     "execution_count": 15,
     "metadata": {},
     "output_type": "execute_result"
    }
   ],
   "source": [
    "order_status = get_order_status(recent_order_id)\n",
    "order_status"
   ]
  },
  {
   "cell_type": "code",
   "execution_count": 16,
   "id": "98a486c0-fdac-4338-9eed-a9f065daf46e",
   "metadata": {},
   "outputs": [
    {
     "name": "stdout",
     "output_type": "stream",
     "text": [
      "The most recent order id is: 3252fd04-26ee-4142-be57-dad617e64086\n"
     ]
    }
   ],
   "source": [
    "# Reprint Resent order id \n",
    "print(f'The most recent order id is: {recent_order_id}')"
   ]
  },
  {
   "cell_type": "code",
   "execution_count": 17,
   "id": "cfa9b1b5-e9c8-47ec-8295-3d7998162626",
   "metadata": {},
   "outputs": [
    {
     "data": {
      "text/plain": [
       "[{'id': '3252fd04-26ee-4142-be57-dad617e64086',\n",
       "  'status': 200,\n",
       "  'body': {'asset_class': 'us_equity',\n",
       "   'asset_id': 'fc6a5dcd-4a70-4b8d-b64f-d83a6dae9ba4',\n",
       "   'canceled_at': None,\n",
       "   'client_order_id': 'b0bedef9-f2c0-4a8c-8250-c9cc4830f43d',\n",
       "   'created_at': '2021-06-16T04:31:16.768589Z',\n",
       "   'expired_at': None,\n",
       "   'extended_hours': False,\n",
       "   'failed_at': None,\n",
       "   'filled_at': None,\n",
       "   'filled_avg_price': None,\n",
       "   'filled_qty': '0',\n",
       "   'hwm': None,\n",
       "   'id': '3252fd04-26ee-4142-be57-dad617e64086',\n",
       "   'legs': None,\n",
       "   'limit_price': None,\n",
       "   'notional': None,\n",
       "   'order_class': '',\n",
       "   'order_type': 'market',\n",
       "   'qty': '25',\n",
       "   'replaced_at': None,\n",
       "   'replaced_by': None,\n",
       "   'replaces': None,\n",
       "   'side': 'buy',\n",
       "   'status': 'pending_cancel',\n",
       "   'stop_price': None,\n",
       "   'submitted_at': '2021-06-16T04:31:16.761917Z',\n",
       "   'symbol': 'FB',\n",
       "   'time_in_force': 'gtc',\n",
       "   'trail_percent': None,\n",
       "   'trail_price': None,\n",
       "   'type': 'market',\n",
       "   'updated_at': '2021-06-16T04:31:18.085898766Z'}},\n",
       " {'id': '17072e87-024a-453b-8a6f-d741f4fe1f3e',\n",
       "  'status': 200,\n",
       "  'body': {'asset_class': 'us_equity',\n",
       "   'asset_id': 'bb2a26c0-4c77-4801-8afc-82e8142ac7b8',\n",
       "   'canceled_at': None,\n",
       "   'client_order_id': '4125a1fa-2c86-4c9a-8519-4d1f326faf40',\n",
       "   'created_at': '2021-06-16T04:31:16.551927Z',\n",
       "   'expired_at': None,\n",
       "   'extended_hours': False,\n",
       "   'failed_at': None,\n",
       "   'filled_at': None,\n",
       "   'filled_avg_price': None,\n",
       "   'filled_qty': '0',\n",
       "   'hwm': None,\n",
       "   'id': '17072e87-024a-453b-8a6f-d741f4fe1f3e',\n",
       "   'legs': None,\n",
       "   'limit_price': None,\n",
       "   'notional': None,\n",
       "   'order_class': '',\n",
       "   'order_type': 'market',\n",
       "   'qty': '25',\n",
       "   'replaced_at': None,\n",
       "   'replaced_by': None,\n",
       "   'replaces': None,\n",
       "   'side': 'buy',\n",
       "   'status': 'pending_cancel',\n",
       "   'stop_price': None,\n",
       "   'submitted_at': '2021-06-16T04:31:16.545352Z',\n",
       "   'symbol': 'NFLX',\n",
       "   'time_in_force': 'gtc',\n",
       "   'trail_percent': None,\n",
       "   'trail_price': None,\n",
       "   'type': 'market',\n",
       "   'updated_at': '2021-06-16T04:31:18.088989338Z'}},\n",
       " {'id': 'cf043d9f-747c-48dc-ac14-c55811c944f4',\n",
       "  'status': 200,\n",
       "  'body': {'asset_class': 'us_equity',\n",
       "   'asset_id': 'b0b6dd9d-8b9b-48a9-ba46-b9d54906e415',\n",
       "   'canceled_at': None,\n",
       "   'client_order_id': '5f1def7e-8963-4bde-9f45-a9a8818deed8',\n",
       "   'created_at': '2021-06-16T04:31:16.239764Z',\n",
       "   'expired_at': None,\n",
       "   'extended_hours': False,\n",
       "   'failed_at': None,\n",
       "   'filled_at': None,\n",
       "   'filled_avg_price': None,\n",
       "   'filled_qty': '0',\n",
       "   'hwm': None,\n",
       "   'id': 'cf043d9f-747c-48dc-ac14-c55811c944f4',\n",
       "   'legs': None,\n",
       "   'limit_price': None,\n",
       "   'notional': None,\n",
       "   'order_class': '',\n",
       "   'order_type': 'market',\n",
       "   'qty': '25',\n",
       "   'replaced_at': None,\n",
       "   'replaced_by': None,\n",
       "   'replaces': None,\n",
       "   'side': 'buy',\n",
       "   'status': 'pending_cancel',\n",
       "   'stop_price': None,\n",
       "   'submitted_at': '2021-06-16T04:31:16.234497Z',\n",
       "   'symbol': 'AAPL',\n",
       "   'time_in_force': 'gtc',\n",
       "   'trail_percent': None,\n",
       "   'trail_price': None,\n",
       "   'type': 'market',\n",
       "   'updated_at': '2021-06-16T04:31:18.091969368Z'}}]"
      ]
     },
     "execution_count": 17,
     "metadata": {},
     "output_type": "execute_result"
    }
   ],
   "source": [
    "# Cancel most recent order:\n",
    "cancel_order(order_id = recent_order_id)"
   ]
  }
 ],
 "metadata": {
  "kernelspec": {
   "display_name": "Python 3",
   "language": "python",
   "name": "python3"
  },
  "language_info": {
   "codemirror_mode": {
    "name": "ipython",
    "version": 3
   },
   "file_extension": ".py",
   "mimetype": "text/x-python",
   "name": "python",
   "nbconvert_exporter": "python",
   "pygments_lexer": "ipython3",
   "version": "3.7.5"
  }
 },
 "nbformat": 4,
 "nbformat_minor": 5
}
